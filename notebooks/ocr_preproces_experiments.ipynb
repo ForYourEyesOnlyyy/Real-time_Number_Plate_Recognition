{
 "cells": [
  {
   "cell_type": "code",
   "execution_count": null,
   "metadata": {},
   "outputs": [],
   "source": [
    "img = cv2.imread(img_path)\n",
    "\n",
    "        # Upscale with cubic interpolation\n",
    "        scale_factor = 2\n",
    "        img = cv2.resize(img, (0, 0), fx=scale_factor, fy=scale_factor, interpolation=cv2.INTER_CUBIC)\n",
    "\n",
    "        # Denoise\n",
    "        img = cv2.fastNlMeansDenoisingColored(img, None, 10, 10, 7, 21)\n",
    "\n",
    "        # Sharpen\n",
    "        kernel = np.array([[0, -1, 0], [-1, 5, -1], [0, -1, 0]])\n",
    "        img = cv2.filter2D(img, -1, kernel)\n",
    "\n",
    "        # Optional: Histogram Equalization (if needed)\n",
    "        lab = cv2.cvtColor(img, cv2.COLOR_BGR2LAB)\n",
    "        l, a, b = cv2.split(lab)\n",
    "        clahe = cv2.createCLAHE(clipLimit=2.0, tileGridSize=(8, 8))\n",
    "        cl = clahe.apply(l)\n",
    "        merged = cv2.merge((cl, a, b))\n",
    "        img = cv2.cvtColor(merged, cv2.COLOR_LAB2BGR)\n",
    "\n",
    "        # Convert to RGB (if required by OCR tool)\n",
    "        img = cv2.cvtColor(img, cv2.COLOR_BGR2RGB)"
   ]
  },
  {
   "cell_type": "code",
   "execution_count": null,
   "metadata": {},
   "outputs": [],
   "source": [
    "img = cv2.imread(img_path)\n",
    "\n",
    "        scale_factor = 2\n",
    "        img = cv2.resize(img, (0, 0), fx=scale_factor, fy=scale_factor)\n",
    "        img = cv2.GaussianBlur(img,(5,5),0)\n",
    "        img = cv2.cvtColor(img, cv2.COLOR_BGR2RGB)"
   ]
  },
  {
   "cell_type": "code",
   "execution_count": null,
   "metadata": {},
   "outputs": [],
   "source": [
    "gray = cv2.cvtColor(img, cv2.COLOR_BGR2GRAY)\n",
    "        min_val, max_val = np.percentile(gray, (2, 98))\n",
    "        stretched = cv2.normalize(gray, None, alpha=0, beta=255, norm_type=cv2.NORM_MINMAX)\n",
    "        img = cv2.merge([stretched, stretched, stretched]) "
   ]
  },
  {
   "cell_type": "code",
   "execution_count": null,
   "metadata": {},
   "outputs": [],
   "source": [
    "# Unsharp Masking\n",
    "        gaussian = cv2.GaussianBlur(img, (9, 9), 10.0)\n",
    "        unsharp = cv2.addWeighted(img, 1.5, gaussian, -0.5, 0)\n",
    "        img = unsharp"
   ]
  },
  {
   "cell_type": "code",
   "execution_count": null,
   "metadata": {},
   "outputs": [],
   "source": [
    "# Gamma Correction\n",
    "        gamma = 1.5  # Adjust gamma value (higher for darker images)\n",
    "        look_up_table = np.array([((i / 255.0) ** (1 / gamma)) * 255 for i in range(256)]).astype(\"uint8\")\n",
    "        img = cv2.LUT(img, look_up_table)"
   ]
  },
  {
   "cell_type": "code",
   "execution_count": null,
   "metadata": {},
   "outputs": [],
   "source": []
  }
 ],
 "metadata": {
  "kernelspec": {
   "display_name": ".venv",
   "language": "python",
   "name": "python3"
  },
  "language_info": {
   "name": "python",
   "version": "3.12.7"
  }
 },
 "nbformat": 4,
 "nbformat_minor": 2
}
