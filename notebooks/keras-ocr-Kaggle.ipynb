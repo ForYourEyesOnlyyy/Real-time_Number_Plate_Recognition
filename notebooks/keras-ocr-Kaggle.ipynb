{
 "cells": [
  {
   "cell_type": "code",
   "execution_count": 1,
   "metadata": {},
   "outputs": [
    {
     "data": {
      "text/plain": [
       "device(type='cuda')"
      ]
     },
     "execution_count": 1,
     "metadata": {},
     "output_type": "execute_result"
    }
   ],
   "source": [
    "import os\n",
    "os.environ[\"CUDA_VISIBLE_DEVICES\"] = \"2\"\n",
    "\n",
    "import torch\n",
    "\n",
    "device = torch.device(\"cuda\" if torch.cuda.is_available() else \"cpu\")\n",
    "device"
   ]
  },
  {
   "cell_type": "code",
   "execution_count": 2,
   "metadata": {
    "_cell_guid": "b1076dfc-b9ad-4769-8c92-a6c4dae69d19",
    "_kg_hide-input": true,
    "_kg_hide-output": true,
    "_uuid": "8f2839f25d086af736a60e9eeb907d3b93b6e0e5",
    "execution": {
     "iopub.execute_input": "2022-09-20T23:32:46.394338Z",
     "iopub.status.busy": "2022-09-20T23:32:46.393826Z",
     "iopub.status.idle": "2022-09-20T23:32:46.430997Z",
     "shell.execute_reply": "2022-09-20T23:32:46.429732Z",
     "shell.execute_reply.started": "2022-09-20T23:32:46.394241Z"
    },
    "trusted": true
   },
   "outputs": [],
   "source": [
    "# This Python 3 environment comes with many helpful analytics libraries installed\n",
    "# It is defined by the kaggle/python Docker image: https://github.com/kaggle/docker-python\n",
    "# For example, here's several helpful packages to load\n",
    "\n",
    "import numpy as np # linear algebra\n",
    "import pandas as pd # data processing, CSV file I/O (e.g. pd.read_csv)\n",
    "\n",
    "# Input data files are available in the read-only \"../input/\" directory\n",
    "# For example, running this (by clicking run or pressing Shift+Enter) will list all files under the input directory\n",
    "\n",
    "import os\n",
    "for dirname, _, filenames in os.walk('/kaggle/input'):\n",
    "    for filename in filenames:\n",
    "        print(os.path.join(dirname, filename))\n",
    "\n",
    "# You can write up to 20GB to the current directory (/kaggle/working/) that gets preserved as output when you create a version using \"Save & Run All\" \n",
    "# You can also write temporary files to /kaggle/temp/, but they won't be saved outside of the current session"
   ]
  },
  {
   "cell_type": "markdown",
   "metadata": {},
   "source": [
    "#What is OCR?\n",
    "\n",
    "\"The acronym ‘OCR’ stands for Optical Character Recognition. Commonly known as ‘Text Recognition,’ it is a popular technique for extracting text from images.\"\n",
    "\n",
    "\"An OCR program is a tool that extracts and re-purposes data from scanned documents, camera images, and image-only pdf. An OCR system uses a combination of hardware, such as optical scanners and software capable of image processing.\"\n",
    "\n",
    "\"For text extraction, the OCR tools (OCR libraries) employ several machine algorithms for pattern recognition to identify the presence and layout of the text in an image file.\"\n",
    "\n",
    "https://www.analyticsvidhya.com/blog/2022/09/extract-text-from-images-quickly-using-keras-ocr-pipeline/"
   ]
  },
  {
   "cell_type": "markdown",
   "metadata": {},
   "source": [
    "![](https://i.ytimg.com/vi/Qxoe-f_L8i0/maxresdefault.jpg)https://www.youtube.com/watch?v=Qxoe-f_L8i0"
   ]
  },
  {
   "cell_type": "markdown",
   "metadata": {},
   "source": [
    "#All script by Meet Nagadia\n",
    "\n",
    "https://www.kaggle.com/code/meetnagadia/extract-text-from-images/notebook"
   ]
  },
  {
   "cell_type": "markdown",
   "metadata": {},
   "source": [
    "#Install keras-ocr library"
   ]
  },
  {
   "cell_type": "code",
   "execution_count": 3,
   "metadata": {
    "execution": {
     "iopub.execute_input": "2024-11-21T17:38:06.329941Z",
     "iopub.status.busy": "2024-11-21T17:38:06.329598Z",
     "iopub.status.idle": "2024-11-21T17:38:14.266342Z",
     "shell.execute_reply": "2024-11-21T17:38:14.265135Z",
     "shell.execute_reply.started": "2024-11-21T17:38:06.329902Z"
    },
    "trusted": true
   },
   "outputs": [],
   "source": [
    "!pip install -q keras-ocr\n",
    "from IPython.display import clear_output   \n",
    "clear_output()"
   ]
  },
  {
   "cell_type": "code",
   "execution_count": 16,
   "metadata": {
    "execution": {
     "iopub.execute_input": "2024-11-21T17:38:06.320031Z",
     "iopub.status.busy": "2024-11-21T17:38:06.319713Z",
     "iopub.status.idle": "2024-11-21T17:38:06.328630Z",
     "shell.execute_reply": "2024-11-21T17:38:06.327711Z",
     "shell.execute_reply.started": "2024-11-21T17:38:06.319933Z"
    },
    "trusted": true
   },
   "outputs": [],
   "source": [
    "# # Alternative way to install library\n",
    "# ! pip install git+https://github.com/faustomorales/keras-ocr.git "
   ]
  },
  {
   "cell_type": "code",
   "execution_count": 10,
   "metadata": {
    "execution": {
     "iopub.execute_input": "2024-11-21T17:38:03.615161Z",
     "iopub.status.busy": "2024-11-21T17:38:03.614846Z",
     "iopub.status.idle": "2024-11-21T17:38:03.619532Z",
     "shell.execute_reply": "2024-11-21T17:38:03.618612Z",
     "shell.execute_reply.started": "2024-11-21T17:38:03.615130Z"
    },
    "trusted": true
   },
   "outputs": [],
   "source": [
    "import keras_ocr\n",
    "import matplotlib.pyplot as plt"
   ]
  },
  {
   "cell_type": "code",
   "execution_count": 11,
   "metadata": {
    "_kg_hide-output": true,
    "execution": {
     "iopub.execute_input": "2024-11-21T17:38:03.621000Z",
     "iopub.status.busy": "2024-11-21T17:38:03.620723Z",
     "iopub.status.idle": "2024-11-21T17:38:06.277766Z",
     "shell.execute_reply": "2024-11-21T17:38:06.276885Z",
     "shell.execute_reply.started": "2024-11-21T17:38:03.620977Z"
    },
    "trusted": true
   },
   "outputs": [
    {
     "name": "stdout",
     "output_type": "stream",
     "text": [
      "Looking for /root/.keras-ocr/craft_mlt_25k.h5\n",
      "Looking for /root/.keras-ocr/crnn_kurapan.h5\n"
     ]
    }
   ],
   "source": [
    "pipeline = keras_ocr.pipeline.Pipeline()"
   ]
  },
  {
   "cell_type": "code",
   "execution_count": 14,
   "metadata": {
    "execution": {
     "iopub.execute_input": "2024-11-21T17:38:06.299305Z",
     "iopub.status.busy": "2024-11-21T17:38:06.299053Z",
     "iopub.status.idle": "2024-11-21T17:38:06.308159Z",
     "shell.execute_reply": "2024-11-21T17:38:06.307178Z",
     "shell.execute_reply.started": "2024-11-21T17:38:06.299282Z"
    },
    "trusted": true
   },
   "outputs": [],
   "source": [
    "from tqdm import tqdm\n",
    "import os"
   ]
  },
  {
   "cell_type": "code",
   "execution_count": 15,
   "metadata": {
    "execution": {
     "iopub.execute_input": "2024-11-21T17:38:06.309363Z",
     "iopub.status.busy": "2024-11-21T17:38:06.309101Z",
     "iopub.status.idle": "2024-11-21T17:38:06.318604Z",
     "shell.execute_reply": "2024-11-21T17:38:06.317716Z",
     "shell.execute_reply.started": "2024-11-21T17:38:06.309341Z"
    },
    "trusted": true
   },
   "outputs": [],
   "source": [
    "cropped_dataset_location = '/kaggle/input/cropped-place/cropped_plates'\n",
    "img_paths = []\n"
   ]
  },
  {
   "cell_type": "code",
   "execution_count": 18,
   "metadata": {
    "execution": {
     "iopub.execute_input": "2024-11-21T17:38:34.797936Z",
     "iopub.status.busy": "2024-11-21T17:38:34.797556Z",
     "iopub.status.idle": "2024-11-21T17:38:34.808328Z",
     "shell.execute_reply": "2024-11-21T17:38:34.807439Z",
     "shell.execute_reply.started": "2024-11-21T17:38:34.797899Z"
    },
    "trusted": true
   },
   "outputs": [
    {
     "name": "stderr",
     "output_type": "stream",
     "text": [
      "OCR: 100%|██████████| 370/370 [00:00<00:00, 506492.32it/s]\n"
     ]
    }
   ],
   "source": [
    "for img_file in tqdm(os.listdir(cropped_dataset_location), desc='OCR'):\n",
    "    if img_file.endswith('jpg'):\n",
    "        img_path = os.path.join(cropped_dataset_location, img_file)\n",
    "        img_paths.append(img_path)"
   ]
  },
  {
   "cell_type": "code",
   "execution_count": 19,
   "metadata": {
    "execution": {
     "iopub.execute_input": "2024-11-21T17:38:36.462050Z",
     "iopub.status.busy": "2024-11-21T17:38:36.461081Z",
     "iopub.status.idle": "2024-11-21T17:38:36.467425Z",
     "shell.execute_reply": "2024-11-21T17:38:36.466483Z",
     "shell.execute_reply.started": "2024-11-21T17:38:36.462013Z"
    },
    "trusted": true
   },
   "outputs": [
    {
     "data": {
      "text/plain": [
       "'/kaggle/input/cropped-place/cropped_plates/plate_00227.jpg'"
      ]
     },
     "execution_count": 19,
     "metadata": {},
     "output_type": "execute_result"
    }
   ],
   "source": [
    "img_paths[0]"
   ]
  },
  {
   "cell_type": "code",
   "execution_count": 20,
   "metadata": {
    "execution": {
     "iopub.execute_input": "2024-11-21T17:38:36.760849Z",
     "iopub.status.busy": "2024-11-21T17:38:36.760518Z",
     "iopub.status.idle": "2024-11-21T17:38:40.151460Z",
     "shell.execute_reply": "2024-11-21T17:38:40.150408Z",
     "shell.execute_reply.started": "2024-11-21T17:38:36.760821Z"
    },
    "trusted": true
   },
   "outputs": [
    {
     "name": "stderr",
     "output_type": "stream",
     "text": [
      "Reading images: 100%|██████████| 370/370 [00:03<00:00, 109.37it/s]\n"
     ]
    }
   ],
   "source": [
    "# Read images from folder path to image object\n",
    "images = [\n",
    "    keras_ocr.tools.read(img) for img in tqdm(img_paths, desc=\"Reading images\")\n",
    "]"
   ]
  },
  {
   "cell_type": "code",
   "execution_count": 24,
   "metadata": {
    "execution": {
     "iopub.execute_input": "2024-11-21T17:46:26.608899Z",
     "iopub.status.busy": "2024-11-21T17:46:26.608016Z",
     "iopub.status.idle": "2024-11-21T17:46:26.748420Z",
     "shell.execute_reply": "2024-11-21T17:46:26.747408Z",
     "shell.execute_reply.started": "2024-11-21T17:46:26.608861Z"
    },
    "trusted": true
   },
   "outputs": [
    {
     "data": {
      "image/png": "[encoded data removed]",
      "text/plain": [
       "<Figure size 432x288 with 1 Axes>"
      ]
     },
     "metadata": {
      "needs_background": "light"
     },
     "output_type": "display_data"
    }
   ],
   "source": [
    "plt.imshow(images[0])  # Display the first image\n",
    "plt.axis('off')        # Turn off the axis for a cleaner display\n",
    "plt.show() "
   ]
  },
  {
   "cell_type": "code",
   "execution_count": 21,
   "metadata": {
    "execution": {
     "iopub.execute_input": "2024-11-21T17:38:40.153005Z",
     "iopub.status.busy": "2024-11-21T17:38:40.152741Z",
     "iopub.status.idle": "2024-11-21T17:44:24.578287Z",
     "shell.execute_reply": "2024-11-21T17:44:24.577273Z",
     "shell.execute_reply.started": "2024-11-21T17:38:40.152980Z"
    },
    "trusted": true
   },
   "outputs": [
    {
     "name": "stderr",
     "output_type": "stream",
     "text": [
      "Recognizing text: 100%|██████████| 370/370 [05:44<00:00,  1.07it/s]\n"
     ]
    }
   ],
   "source": [
    "prediction_groups = []\n",
    "for image in tqdm(images, desc=\"Recognizing text\"):\n",
    "    prediction_groups.append(pipeline.recognize([image])[0])"
   ]
  },
  {
   "cell_type": "code",
   "execution_count": 36,
   "metadata": {
    "execution": {
     "iopub.execute_input": "2024-11-21T17:53:26.437191Z",
     "iopub.status.busy": "2024-11-21T17:53:26.436264Z",
     "iopub.status.idle": "2024-11-21T17:53:27.504283Z",
     "shell.execute_reply": "2024-11-21T17:53:27.503263Z",
     "shell.execute_reply.started": "2024-11-21T17:53:26.437156Z"
    },
    "trusted": true
   },
   "outputs": [
    {
     "name": "stdout",
     "output_type": "stream",
     "text": [
      "out_dir\t\t  plate_00513.json  plate_01065.json  plate_01523.json\n",
      "plate_00000.json  plate_00523.json  plate_01070.json  plate_01525.json\n",
      "plate_00014.json  plate_00531.json  plate_01073.json  plate_01528.json\n",
      "plate_00015.json  plate_00533.json  plate_01077.json  plate_01529.json\n",
      "plate_00016.json  plate_00553.json  plate_01082.json  plate_01531.json\n",
      "plate_00022.json  plate_00560.json  plate_01083.json  plate_01533.json\n",
      "plate_00024.json  plate_00577.json  plate_01090.json  plate_01544.json\n",
      "plate_00035.json  plate_00578.json  plate_01093.json  plate_01546.json\n",
      "plate_00037.json  plate_00588.json  plate_01094.json  plate_01547.json\n",
      "plate_00038.json  plate_00589.json  plate_01117.json  plate_01560.json\n",
      "plate_00075.json  plate_00591.json  plate_01121.json  plate_01563.json\n",
      "plate_00076.json  plate_00606.json  plate_01122.json  plate_01565.json\n",
      "plate_00077.json  plate_00611.json  plate_01127.json  plate_01566.json\n",
      "plate_00091.json  plate_00617.json  plate_01128.json  plate_01567.json\n",
      "plate_00093.json  plate_00644.json  plate_01134.json  plate_01569.json\n",
      "plate_00103.json  plate_00650.json  plate_01138.json  plate_01574.json\n",
      "plate_00104.json  plate_00654.json  plate_01142.json  plate_01576.json\n",
      "plate_00120.json  plate_00656.json  plate_01146.json  plate_01582.json\n",
      "plate_00122.json  plate_00662.json  plate_01150.json  plate_01585.json\n",
      "plate_00123.json  plate_00668.json  plate_01151.json  plate_01597.json\n",
      "plate_00129.json  plate_00688.json  plate_01153.json  plate_01598.json\n",
      "plate_00132.json  plate_00694.json  plate_01154.json  plate_01607.json\n",
      "plate_00133.json  plate_00698.json  plate_01155.json  plate_01621.json\n",
      "plate_00139.json  plate_00716.json  plate_01163.json  plate_01626.json\n",
      "plate_00149.json  plate_00717.json  plate_01170.json  plate_01629.json\n",
      "plate_00151.json  plate_00722.json  plate_01172.json  plate_01638.json\n",
      "plate_00153.json  plate_00756.json  plate_01182.json  plate_01648.json\n",
      "plate_00155.json  plate_00762.json  plate_01191.json  plate_01651.json\n",
      "plate_00159.json  plate_00763.json  plate_01201.json  plate_01658.json\n",
      "plate_00166.json  plate_00765.json  plate_01206.json  plate_01662.json\n",
      "plate_00169.json  plate_00771.json  plate_01209.json  plate_01665.json\n",
      "plate_00173.json  plate_00776.json  plate_01214.json  plate_01667.json\n",
      "plate_00180.json  plate_00786.json  plate_01215.json  plate_01669.json\n",
      "plate_00181.json  plate_00798.json  plate_01220.json  plate_01678.json\n",
      "plate_00186.json  plate_00799.json  plate_01227.json  plate_01680.json\n",
      "plate_00187.json  plate_00804.json  plate_01234.json  plate_01684.json\n",
      "plate_00188.json  plate_00806.json  plate_01236.json  plate_01685.json\n",
      "plate_00201.json  plate_00808.json  plate_01237.json  plate_01687.json\n",
      "plate_00204.json  plate_00813.json  plate_01242.json  plate_01688.json\n",
      "plate_00207.json  plate_00814.json  plate_01248.json  plate_01692.json\n",
      "plate_00211.json  plate_00816.json  plate_01251.json  plate_01707.json\n",
      "plate_00215.json  plate_00817.json  plate_01260.json  plate_01709.json\n",
      "plate_00217.json  plate_00818.json  plate_01267.json  plate_01710.json\n",
      "plate_00218.json  plate_00831.json  plate_01271.json  plate_01718.json\n",
      "plate_00220.json  plate_00834.json  plate_01275.json  plate_01719.json\n",
      "plate_00223.json  plate_00836.json  plate_01276.json  plate_01720.json\n",
      "plate_00227.json  plate_00839.json  plate_01288.json  plate_01736.json\n",
      "plate_00229.json  plate_00841.json  plate_01306.json  plate_01740.json\n",
      "plate_00251.json  plate_00842.json  plate_01307.json  plate_01744.json\n",
      "plate_00256.json  plate_00844.json  plate_01319.json  plate_01748.json\n",
      "plate_00263.json  plate_00848.json  plate_01322.json  plate_01761.json\n",
      "plate_00266.json  plate_00855.json  plate_01339.json  plate_01769.json\n",
      "plate_00268.json  plate_00857.json  plate_01341.json  plate_01772.json\n",
      "plate_00270.json  plate_00863.json  plate_01345.json  plate_01782.json\n",
      "plate_00290.json  plate_00867.json  plate_01348.json  plate_01783.json\n",
      "plate_00293.json  plate_00873.json  plate_01363.json  plate_01787.json\n",
      "plate_00296.json  plate_00875.json  plate_01379.json  plate_01792.json\n",
      "plate_00298.json  plate_00879.json  plate_01384.json  plate_01796.json\n",
      "plate_00300.json  plate_00883.json  plate_01395.json  plate_01809.json\n",
      "plate_00302.json  plate_00886.json  plate_01401.json  plate_01817.json\n",
      "plate_00308.json  plate_00897.json  plate_01404.json  plate_01821.json\n",
      "plate_00310.json  plate_00898.json  plate_01414.json  plate_01829.json\n",
      "plate_00311.json  plate_00899.json  plate_01417.json  plate_01831.json\n",
      "plate_00312.json  plate_00901.json  plate_01423.json  plate_01832.json\n",
      "plate_00320.json  plate_00903.json  plate_01424.json  plate_01841.json\n",
      "plate_00326.json  plate_00908.json  plate_01425.json  plate_01843.json\n",
      "plate_00327.json  plate_00910.json  plate_01433.json  plate_01844.json\n",
      "plate_00337.json  plate_00915.json  plate_01437.json  plate_01849.json\n",
      "plate_00340.json  plate_00929.json  plate_01438.json  plate_01856.json\n",
      "plate_00353.json  plate_00936.json  plate_01439.json  plate_01858.json\n",
      "plate_00358.json  plate_00948.json  plate_01445.json  plate_01862.json\n",
      "plate_00362.json  plate_00958.json  plate_01447.json  plate_01864.json\n",
      "plate_00374.json  plate_00961.json  plate_01454.json  plate_01865.json\n",
      "plate_00376.json  plate_00967.json  plate_01457.json  plate_01867.json\n",
      "plate_00382.json  plate_00968.json  plate_01458.json  plate_01871.json\n",
      "plate_00384.json  plate_00976.json  plate_01459.json  plate_01876.json\n",
      "plate_00386.json  plate_00978.json  plate_01460.json  plate_01883.json\n",
      "plate_00390.json  plate_00979.json  plate_01461.json  plate_01892.json\n",
      "plate_00393.json  plate_00988.json  plate_01465.json  plate_01896.json\n",
      "plate_00405.json  plate_00991.json  plate_01466.json  plate_01902.json\n",
      "plate_00407.json  plate_00994.json  plate_01477.json  plate_01903.json\n",
      "plate_00414.json  plate_01000.json  plate_01487.json  plate_01910.json\n",
      "plate_00420.json  plate_01003.json  plate_01489.json  plate_01921.json\n",
      "plate_00421.json  plate_01004.json  plate_01494.json  plate_01924.json\n",
      "plate_00440.json  plate_01009.json  plate_01495.json  plate_01932.json\n",
      "plate_00441.json  plate_01013.json  plate_01500.json  plate_01941.json\n",
      "plate_00445.json  plate_01016.json  plate_01508.json  plate_01942.json\n",
      "plate_00447.json  plate_01026.json  plate_01512.json  plate_01945.json\n",
      "plate_00495.json  plate_01039.json  plate_01513.json  plate_01950.json\n",
      "plate_00505.json  plate_01043.json  plate_01515.json  plate_01963.json\n",
      "plate_00509.json  plate_01050.json  plate_01517.json  plate_01969.json\n",
      "plate_00510.json  plate_01053.json  plate_01518.json  plate_01974.json\n",
      "plate_00511.json  plate_01063.json  plate_01519.json\n"
     ]
    }
   ],
   "source": [
    "!ls"
   ]
  },
  {
   "cell_type": "code",
   "execution_count": 38,
   "metadata": {
    "execution": {
     "iopub.execute_input": "2024-11-21T17:55:14.428281Z",
     "iopub.status.busy": "2024-11-21T17:55:14.427426Z",
     "iopub.status.idle": "2024-11-21T17:55:15.517177Z",
     "shell.execute_reply": "2024-11-21T17:55:15.515886Z",
     "shell.execute_reply.started": "2024-11-21T17:55:14.428243Z"
    },
    "trusted": true
   },
   "outputs": [
    {
     "name": "stdout",
     "output_type": "stream",
     "text": [
      "  adding: kaggle/working/output/ (stored 0%)\n",
      "  adding: kaggle/working/output/plate_01500.json (stored 0%)\n",
      "  adding: kaggle/working/output/plate_01146.json (stored 0%)\n",
      "  adding: kaggle/working/output/plate_00076.json (stored 0%)\n",
      "  adding: kaggle/working/output/plate_00181.json (stored 0%)\n",
      "  adding: kaggle/working/output/plate_00358.json (stored 0%)\n",
      "  adding: kaggle/working/output/plate_01744.json (stored 0%)\n",
      "  adding: kaggle/working/output/plate_00961.json (stored 0%)\n",
      "  adding: kaggle/working/output/plate_01209.json (stored 0%)\n",
      "  adding: kaggle/working/output/plate_01454.json (stored 0%)\n",
      "  adding: kaggle/working/output/plate_00915.json (stored 0%)\n",
      "  adding: kaggle/working/output/plate_00220.json (stored 0%)\n",
      "  adding: kaggle/working/output/plate_00386.json (stored 0%)\n",
      "  adding: kaggle/working/output/plate_01883.json (stored 0%)\n",
      "  adding: kaggle/working/output/plate_00668.json (stored 0%)\n",
      "  adding: kaggle/working/output/plate_00510.json (stored 0%)\n",
      "  adding: kaggle/working/output/plate_01319.json (stored 0%)\n",
      "  adding: kaggle/working/output/plate_01495.json (stored 0%)\n",
      "  adding: kaggle/working/output/plate_01206.json (stored 0%)\n",
      "  adding: kaggle/working/output/plate_00180.json (stored 0%)\n",
      "  adding: kaggle/working/output/plate_00816.json (stored 0%)\n",
      "  adding: kaggle/working/output/plate_01648.json (stored 0%)\n",
      "  adding: kaggle/working/output/plate_01151.json (stored 0%)\n",
      "  adding: kaggle/working/output/plate_00326.json (stored 0%)\n",
      "  adding: kaggle/working/output/plate_01924.json (stored 0%)\n",
      "  adding: kaggle/working/output/plate_01414.json (stored 0%)\n",
      "  adding: kaggle/working/output/plate_00873.json (stored 0%)\n",
      "  adding: kaggle/working/output/plate_01856.json (stored 0%)\n",
      "  adding: kaggle/working/output/plate_00644.json (stored 0%)\n",
      "  adding: kaggle/working/output/plate_01974.json (stored 0%)\n",
      "  adding: kaggle/working/output/plate_00155.json (stored 0%)\n",
      "  adding: kaggle/working/output/plate_01121.json (stored 0%)\n",
      "  adding: kaggle/working/output/plate_00122.json (stored 0%)\n",
      "  adding: kaggle/working/output/plate_01761.json (stored 0%)\n",
      "  adding: kaggle/working/output/plate_00169.json (stored 0%)\n",
      "  adding: kaggle/working/output/plate_00936.json (stored 0%)\n",
      "  adding: kaggle/working/output/plate_01910.json (stored 0%)\n",
      "  adding: kaggle/working/output/plate_01523.json (stored 0%)\n",
      "  adding: kaggle/working/output/plate_01941.json (stored 0%)\n",
      "  adding: kaggle/working/output/plate_01519.json (stored 0%)\n",
      "  adding: kaggle/working/output/plate_01322.json (stored 0%)\n",
      "  adding: kaggle/working/output/plate_01433.json (stored 0%)\n",
      "  adding: kaggle/working/output/plate_01142.json (stored 0%)\n",
      "  adding: kaggle/working/output/plate_01401.json (stored 0%)\n",
      "  adding: kaggle/working/output/plate_00153.json (stored 0%)\n",
      "  adding: kaggle/working/output/plate_00897.json (stored 0%)\n",
      "  adding: kaggle/working/output/plate_01306.json (stored 0%)\n",
      "  adding: kaggle/working/output/plate_00804.json (stored 0%)\n",
      "  adding: kaggle/working/output/plate_01688.json (stored 0%)\n",
      "  adding: kaggle/working/output/plate_01004.json (stored 0%)\n",
      "  adding: kaggle/working/output/plate_01013.json (stored 0%)\n",
      "  adding: kaggle/working/output/plate_00093.json (stored 0%)\n",
      "  adding: kaggle/working/output/plate_00688.json (stored 0%)\n",
      "  adding: kaggle/working/output/plate_00591.json (stored 0%)\n",
      "  adding: kaggle/working/output/plate_01567.json (stored 0%)\n",
      "  adding: kaggle/working/output/plate_00320.json (stored 0%)\n",
      "  adding: kaggle/working/output/plate_01969.json (stored 0%)\n",
      "  adding: kaggle/working/output/plate_00606.json (stored 0%)\n",
      "  adding: kaggle/working/output/plate_00263.json (stored 0%)\n",
      "  adding: kaggle/working/output/plate_00817.json (stored 0%)\n",
      "  adding: kaggle/working/output/plate_01769.json (stored 0%)\n",
      "  adding: kaggle/working/output/plate_01902.json (stored 0%)\n",
      "  adding: kaggle/working/output/plate_01122.json (stored 0%)\n",
      "  adding: kaggle/working/output/plate_00818.json (stored 0%)\n",
      "  adding: kaggle/working/output/plate_00910.json (stored 0%)\n",
      "  adding: kaggle/working/output/plate_01423.json (stored 0%)\n",
      "  adding: kaggle/working/output/plate_01783.json (stored 0%)\n",
      "  adding: kaggle/working/output/plate_01003.json (stored 0%)\n",
      "  adding: kaggle/working/output/plate_01736.json (stored 0%)\n",
      "  adding: kaggle/working/output/plate_01796.json (stored 0%)\n",
      "  adding: kaggle/working/output/plate_00976.json (stored 0%)\n",
      "  adding: kaggle/working/output/plate_01341.json (stored 0%)\n",
      "  adding: kaggle/working/output/plate_01363.json (stored 0%)\n",
      "  adding: kaggle/working/output/plate_01862.json (stored 0%)\n",
      "  adding: kaggle/working/output/plate_01718.json (stored 0%)\n",
      "  adding: kaggle/working/output/plate_01829.json (stored 0%)\n",
      "  adding: kaggle/working/output/plate_00495.json (stored 0%)\n",
      "  adding: kaggle/working/output/plate_00407.json (stored 0%)\n",
      "  adding: kaggle/working/output/plate_01680.json (stored 0%)\n",
      "  adding: kaggle/working/output/plate_00296.json (stored 0%)\n",
      "  adding: kaggle/working/output/plate_01477.json (stored 0%)\n",
      "  adding: kaggle/working/output/plate_01154.json (stored 0%)\n",
      "  adding: kaggle/working/output/plate_00266.json (stored 0%)\n",
      "  adding: kaggle/working/output/plate_01465.json (stored 0%)\n",
      "  adding: kaggle/working/output/plate_01709.json (stored 0%)\n",
      "  adding: kaggle/working/output/plate_01053.json (stored 0%)\n",
      "  adding: kaggle/working/output/plate_01518.json (stored 0%)\n",
      "  adding: kaggle/working/output/plate_01082.json (stored 0%)\n",
      "  adding: kaggle/working/output/plate_01710.json (stored 0%)\n",
      "  adding: kaggle/working/output/plate_00227.json (stored 0%)\n",
      "  adding: kaggle/working/output/plate_01932.json (stored 0%)\n",
      "  adding: kaggle/working/output/plate_00302.json (stored 0%)\n",
      "  adding: kaggle/working/output/plate_01384.json (stored 0%)\n",
      "  adding: kaggle/working/output/plate_01607.json (stored 0%)\n",
      "  adding: kaggle/working/output/plate_00867.json (stored 0%)\n",
      "  adding: kaggle/working/output/plate_00978.json (stored 0%)\n",
      "  adding: kaggle/working/output/plate_01629.json (stored 0%)\n",
      "  adding: kaggle/working/output/plate_00588.json (stored 0%)\n",
      "  adding: kaggle/working/output/plate_01529.json (stored 0%)\n",
      "  adding: kaggle/working/output/plate_00104.json (stored 0%)\n",
      "  adding: kaggle/working/output/plate_01566.json (stored 0%)\n",
      "  adding: kaggle/working/output/plate_01050.json (stored 0%)\n",
      "  adding: kaggle/working/output/plate_01515.json (stored 0%)\n",
      "  adding: kaggle/working/output/plate_01684.json (stored 0%)\n",
      "  adding: kaggle/working/output/plate_00908.json (stored 0%)\n",
      "  adding: kaggle/working/output/plate_01740.json (stored 0%)\n",
      "  adding: kaggle/working/output/plate_01417.json (stored 0%)\n",
      "  adding: kaggle/working/output/plate_00863.json (stored 0%)\n",
      "  adding: kaggle/working/output/plate_01094.json (stored 0%)\n",
      "  adding: kaggle/working/output/plate_01565.json (stored 0%)\n",
      "  adding: kaggle/working/output/plate_00813.json (stored 0%)\n",
      "  adding: kaggle/working/output/plate_01945.json (stored 0%)\n",
      "  adding: kaggle/working/output/plate_00151.json (stored 0%)\n",
      "  adding: kaggle/working/output/plate_01841.json (stored 0%)\n",
      "  adding: kaggle/working/output/plate_01809.json (stored 0%)\n",
      "  adding: kaggle/working/output/plate_01876.json (stored 0%)\n",
      "  adding: kaggle/working/output/plate_00440.json (stored 0%)\n",
      "  adding: kaggle/working/output/plate_01517.json (stored 0%)\n",
      "  adding: kaggle/working/output/plate_00875.json (stored 0%)\n",
      "  adding: kaggle/working/output/plate_01817.json (stored 0%)\n",
      "  adding: kaggle/working/output/plate_01339.json (stored 0%)\n",
      "  adding: kaggle/working/output/plate_00656.json (stored 0%)\n",
      "  adding: kaggle/working/output/plate_01457.json (stored 0%)\n",
      "  adding: kaggle/working/output/plate_01563.json (stored 0%)\n",
      "  adding: kaggle/working/output/plate_00217.json (stored 0%)\n",
      "  adding: kaggle/working/output/plate_01063.json (stored 0%)\n",
      "  adding: kaggle/working/output/plate_01077.json (stored 0%)\n",
      "  adding: kaggle/working/output/plate_00879.json (stored 0%)\n",
      "  adding: kaggle/working/output/plate_00553.json (stored 0%)\n",
      "  adding: kaggle/working/output/plate_01214.json (stored 0%)\n",
      "  adding: kaggle/working/output/plate_01687.json (stored 0%)\n",
      "  adding: kaggle/working/output/plate_00531.json (stored 0%)\n",
      "  adding: kaggle/working/output/plate_00120.json (stored 0%)\n",
      "  adding: kaggle/working/output/plate_00806.json (stored 0%)\n",
      "  adding: kaggle/working/output/plate_00509.json (stored 0%)\n",
      "  adding: kaggle/working/output/plate_00513.json (stored 0%)\n",
      "  adding: kaggle/working/output/plate_01528.json (stored 0%)\n",
      "  adding: kaggle/working/output/plate_00310.json (stored 0%)\n",
      "  adding: kaggle/working/output/plate_00022.json (stored 0%)\n",
      "  adding: kaggle/working/output/plate_01117.json (stored 0%)\n",
      "  adding: kaggle/working/output/plate_01487.json (stored 0%)\n",
      "  adding: kaggle/working/output/plate_00839.json (stored 0%)\n",
      "  adding: kaggle/working/output/plate_01138.json (stored 0%)\n",
      "  adding: kaggle/working/output/plate_01858.json (stored 0%)\n",
      "  adding: kaggle/working/output/plate_01288.json (stored 0%)\n",
      "  adding: kaggle/working/output/plate_01651.json (stored 0%)\n",
      "  adding: kaggle/working/output/plate_01201.json (stored 0%)\n",
      "  adding: kaggle/working/output/plate_01574.json (stored 0%)\n",
      "  adding: kaggle/working/output/plate_00662.json (stored 0%)\n",
      "  adding: kaggle/working/output/plate_01864.json (stored 0%)\n",
      "  adding: kaggle/working/output/plate_01658.json (stored 0%)\n",
      "  adding: kaggle/working/output/plate_01404.json (stored 0%)\n",
      "  adding: kaggle/working/output/plate_00776.json (deflated 2%)\n",
      "  adding: kaggle/working/output/plate_00848.json (stored 0%)\n",
      "  adding: kaggle/working/output/plate_00201.json (stored 0%)\n",
      "  adding: kaggle/working/output/plate_01153.json (stored 0%)\n",
      "  adding: kaggle/working/output/plate_00223.json (stored 0%)\n",
      "  adding: kaggle/working/output/plate_00589.json (deflated 2%)\n",
      "  adding: kaggle/working/output/plate_01669.json (stored 0%)\n",
      "  adding: kaggle/working/output/plate_01685.json (stored 0%)\n",
      "  adding: kaggle/working/output/plate_00979.json (deflated 3%)\n",
      "  adding: kaggle/working/output/plate_00650.json (stored 0%)\n",
      "  adding: kaggle/working/output/plate_00149.json (stored 0%)\n",
      "  adding: kaggle/working/output/plate_00771.json (stored 0%)\n",
      "  adding: kaggle/working/output/plate_01043.json (stored 0%)\n",
      "  adding: kaggle/working/output/plate_00187.json (stored 0%)\n",
      "  adding: kaggle/working/output/plate_01425.json (stored 0%)\n",
      "  adding: kaggle/working/output/plate_01849.json (stored 0%)\n",
      "  adding: kaggle/working/output/plate_00166.json (stored 0%)\n",
      "  adding: kaggle/working/output/plate_01439.json (stored 0%)\n",
      "  adding: kaggle/working/output/plate_00038.json (stored 0%)\n",
      "  adding: kaggle/working/output/plate_01489.json (stored 0%)\n",
      "  adding: kaggle/working/output/plate_00958.json (stored 0%)\n",
      "  adding: kaggle/working/output/plate_01275.json (stored 0%)\n",
      "  adding: kaggle/working/output/plate_01424.json (stored 0%)\n",
      "  adding: kaggle/working/output/plate_01843.json (stored 0%)\n",
      "  adding: kaggle/working/output/plate_01172.json (stored 0%)\n",
      "  adding: kaggle/working/output/plate_01438.json (stored 0%)\n",
      "  adding: kaggle/working/output/plate_00035.json (stored 0%)\n",
      "  adding: kaggle/working/output/plate_00717.json (stored 0%)\n",
      "  adding: kaggle/working/output/plate_01128.json (stored 0%)\n",
      "  adding: kaggle/working/output/plate_00353.json (stored 0%)\n",
      "  adding: kaggle/working/output/plate_00765.json (stored 0%)\n",
      "  adding: kaggle/working/output/plate_00447.json (stored 0%)\n",
      "  adding: kaggle/working/output/plate_01009.json (deflated 2%)\n",
      "  adding: kaggle/working/output/plate_00611.json (stored 0%)\n",
      "  adding: kaggle/working/output/plate_00857.json (stored 0%)\n",
      "  adding: kaggle/working/output/plate_00229.json (stored 0%)\n",
      "  adding: kaggle/working/output/plate_00511.json (stored 0%)\n",
      "  adding: kaggle/working/output/plate_01942.json (stored 0%)\n",
      "  adding: kaggle/working/output/plate_01227.json (stored 0%)\n",
      "  adding: kaggle/working/output/plate_01544.json (stored 0%)\n",
      "  adding: kaggle/working/output/plate_01073.json (stored 0%)\n",
      "  adding: kaggle/working/output/plate_00898.json (stored 0%)\n",
      "  adding: kaggle/working/output/plate_01569.json (stored 0%)\n",
      "  adding: kaggle/working/output/plate_00000.json (stored 0%)\n",
      "  adding: kaggle/working/output/plate_01039.json (stored 0%)\n",
      "  adding: kaggle/working/output/plate_01026.json (stored 0%)\n",
      "  adding: kaggle/working/output/plate_01921.json (stored 0%)\n",
      "  adding: kaggle/working/output/plate_01000.json (stored 0%)\n",
      "  adding: kaggle/working/output/plate_00441.json (stored 0%)\n",
      "  adding: kaggle/working/output/plate_00327.json (stored 0%)\n",
      "  adding: kaggle/working/output/plate_00533.json (stored 0%)\n",
      "  adding: kaggle/working/output/plate_01892.json (stored 0%)\n",
      "  adding: kaggle/working/output/plate_01782.json (stored 0%)\n",
      "  adding: kaggle/working/output/plate_00173.json (stored 0%)\n",
      "  adding: kaggle/working/output/plate_00308.json (stored 0%)\n",
      "  adding: kaggle/working/output/plate_00024.json (stored 0%)\n",
      "  adding: kaggle/working/output/plate_01662.json (stored 0%)\n",
      "  adding: kaggle/working/output/plate_01090.json (stored 0%)\n",
      "  adding: kaggle/working/output/plate_00075.json (stored 0%)\n",
      "  adding: kaggle/working/output/plate_00763.json (stored 0%)\n",
      "  adding: kaggle/working/output/plate_01236.json (stored 0%)\n",
      "  adding: kaggle/working/output/plate_01150.json (stored 0%)\n",
      "  adding: kaggle/working/output/plate_01585.json (stored 0%)\n",
      "  adding: kaggle/working/output/plate_00405.json (stored 0%)\n",
      "  adding: kaggle/working/output/plate_00077.json (stored 0%)\n",
      "  adding: kaggle/working/output/plate_00362.json (stored 0%)\n",
      "  adding: kaggle/working/output/plate_00374.json (stored 0%)\n",
      "  adding: kaggle/working/output/plate_01170.json (stored 0%)\n",
      "  adding: kaggle/working/output/plate_01237.json (stored 0%)\n",
      "  adding: kaggle/working/output/plate_01248.json (stored 0%)\n",
      "  adding: kaggle/working/output/plate_01546.json (stored 0%)\n",
      "  adding: kaggle/working/output/plate_01182.json (stored 0%)\n",
      "  adding: kaggle/working/output/plate_00855.json (stored 0%)\n",
      "  adding: kaggle/working/output/plate_00883.json (stored 0%)\n",
      "  adding: kaggle/working/output/plate_01395.json (stored 0%)\n",
      "  adding: kaggle/working/output/plate_00290.json (stored 0%)\n",
      "  adding: kaggle/working/output/plate_00836.json (deflated 1%)\n",
      "  adding: kaggle/working/output/plate_00390.json (stored 0%)\n",
      "  adding: kaggle/working/output/plate_01626.json (stored 0%)\n",
      "  adding: kaggle/working/output/plate_00762.json (stored 0%)\n",
      "  adding: kaggle/working/output/plate_01134.json (stored 0%)\n",
      "  adding: kaggle/working/output/plate_01560.json (stored 0%)\n",
      "  adding: kaggle/working/output/plate_00578.json (stored 0%)\n",
      "  adding: kaggle/working/output/plate_01831.json (stored 0%)\n",
      "  adding: kaggle/working/output/plate_00654.json (stored 0%)\n",
      "  adding: kaggle/working/output/plate_01220.json (stored 0%)\n",
      "  adding: kaggle/working/output/plate_01896.json (stored 0%)\n",
      "  adding: kaggle/working/output/plate_01242.json (stored 0%)\n",
      "  adding: kaggle/working/output/plate_00756.json (stored 0%)\n",
      "  adding: kaggle/working/output/plate_01748.json (stored 0%)\n",
      "  adding: kaggle/working/output/plate_00268.json (stored 0%)\n",
      "  adding: kaggle/working/output/plate_01720.json (stored 0%)\n",
      "  adding: kaggle/working/output/plate_00988.json (stored 0%)\n",
      "  adding: kaggle/working/output/plate_00903.json (stored 0%)\n",
      "  adding: kaggle/working/output/plate_00841.json (stored 0%)\n",
      "  adding: kaggle/working/output/plate_01466.json (stored 0%)\n",
      "  adding: kaggle/working/output/plate_01260.json (stored 0%)\n",
      "  adding: kaggle/working/output/plate_01016.json (stored 0%)\n",
      "  adding: kaggle/working/output/plate_01512.json (stored 0%)\n",
      "  adding: kaggle/working/output/plate_01307.json (stored 0%)\n",
      "  adding: kaggle/working/output/plate_01638.json (stored 0%)\n",
      "  adding: kaggle/working/output/plate_00207.json (stored 0%)\n",
      "  adding: kaggle/working/output/plate_01867.json (stored 0%)\n",
      "  adding: kaggle/working/output/plate_01093.json (stored 0%)\n",
      "  adding: kaggle/working/output/plate_00991.json (deflated 8%)\n",
      "  adding: kaggle/working/output/plate_00994.json (stored 0%)\n",
      "  adding: kaggle/working/output/plate_00899.json (stored 0%)\n",
      "  adding: kaggle/working/output/plate_01508.json (stored 0%)\n",
      "  adding: kaggle/working/output/plate_00139.json (stored 0%)\n",
      "  adding: kaggle/working/output/plate_01155.json (stored 0%)\n",
      "  adding: kaggle/working/output/plate_00016.json (stored 0%)\n",
      "  adding: kaggle/working/output/plate_01533.json (stored 0%)\n",
      "  adding: kaggle/working/output/plate_01215.json (stored 0%)\n",
      "  adding: kaggle/working/output/plate_00786.json (stored 0%)\n",
      "  adding: kaggle/working/output/plate_01163.json (stored 0%)\n",
      "  adding: kaggle/working/output/plate_01871.json (stored 0%)\n",
      "  adding: kaggle/working/output/plate_00300.json (stored 0%)\n",
      "  adding: kaggle/working/output/plate_00340.json (stored 0%)\n",
      "  adding: kaggle/working/output/plate_01437.json (stored 0%)\n",
      "  adding: kaggle/working/output/plate_01271.json (stored 0%)\n",
      "  adding: kaggle/working/output/plate_00617.json (stored 0%)\n",
      "  adding: kaggle/working/output/plate_00968.json (stored 0%)\n",
      "  adding: kaggle/working/output/plate_01445.json (stored 0%)\n",
      "  adding: kaggle/working/output/plate_00694.json (stored 0%)\n",
      "  adding: kaggle/working/output/plate_01459.json (stored 0%)\n",
      "  adding: kaggle/working/output/plate_00382.json (stored 0%)\n",
      "  adding: kaggle/working/output/plate_01251.json (stored 0%)\n",
      "  adding: kaggle/working/output/plate_01460.json (stored 0%)\n",
      "  adding: kaggle/working/output/plate_00722.json (stored 0%)\n",
      "  adding: kaggle/working/output/plate_00015.json (deflated 3%)\n",
      "  adding: kaggle/working/output/plate_00337.json (stored 0%)\n",
      "  adding: kaggle/working/output/plate_01348.json (stored 0%)\n",
      "  adding: kaggle/working/output/plate_01719.json (stored 0%)\n",
      "  adding: kaggle/working/output/plate_00312.json (stored 0%)\n",
      "  adding: kaggle/working/output/plate_00204.json (stored 0%)\n",
      "  adding: kaggle/working/output/plate_01494.json (stored 0%)\n",
      "  adding: kaggle/working/output/plate_00799.json (stored 0%)\n",
      "  adding: kaggle/working/output/plate_01127.json (stored 0%)\n",
      "  adding: kaggle/working/output/plate_00831.json (stored 0%)\n",
      "  adding: kaggle/working/output/plate_00014.json (stored 0%)\n",
      "  adding: kaggle/working/output/plate_00393.json (stored 0%)\n",
      "  adding: kaggle/working/output/plate_01531.json (stored 0%)\n",
      "  adding: kaggle/working/output/plate_00577.json (stored 0%)\n",
      "  adding: kaggle/working/output/plate_00218.json (stored 0%)\n",
      "  adding: kaggle/working/output/plate_00103.json (stored 0%)\n",
      "  adding: kaggle/working/output/plate_01821.json (stored 0%)\n",
      "  adding: kaggle/working/output/plate_00311.json (stored 0%)\n",
      "  adding: kaggle/working/output/plate_00211.json (stored 0%)\n",
      "  adding: kaggle/working/output/plate_00505.json (stored 0%)\n",
      "  adding: kaggle/working/output/plate_00133.json (stored 0%)\n",
      "  adding: kaggle/working/output/plate_00298.json (stored 0%)\n",
      "  adding: kaggle/working/output/plate_01772.json (stored 0%)\n",
      "  adding: kaggle/working/output/plate_00414.json (stored 0%)\n",
      "  adding: kaggle/working/output/plate_00844.json (stored 0%)\n",
      "  adding: kaggle/working/output/plate_00129.json (stored 0%)\n",
      "  adding: kaggle/working/output/plate_01597.json (stored 0%)\n",
      "  adding: kaggle/working/output/plate_01678.json (stored 0%)\n",
      "  adding: kaggle/working/output/plate_01707.json (stored 0%)\n",
      "  adding: kaggle/working/output/plate_00188.json (stored 0%)\n",
      "  adding: kaggle/working/output/plate_00798.json (stored 0%)\n",
      "  adding: kaggle/working/output/plate_00376.json (stored 0%)\n",
      "  adding: kaggle/working/output/plate_00814.json (stored 0%)\n",
      "  adding: kaggle/working/output/plate_00901.json (stored 0%)\n",
      "  adding: kaggle/working/output/plate_01070.json (stored 0%)\n",
      "  adding: kaggle/working/output/plate_01903.json (stored 0%)\n",
      "  adding: kaggle/working/output/plate_01065.json (stored 0%)\n",
      "  adding: kaggle/working/output/plate_01267.json (stored 0%)\n",
      "  adding: kaggle/working/output/plate_01787.json (stored 0%)\n",
      "  adding: kaggle/working/output/plate_00215.json (stored 0%)\n",
      "  adding: kaggle/working/output/plate_00132.json (stored 0%)\n",
      "  adding: kaggle/working/output/plate_01083.json (stored 0%)\n",
      "  adding: kaggle/working/output/plate_00251.json (stored 0%)\n",
      "  adding: kaggle/working/output/plate_00967.json (stored 0%)\n",
      "  adding: kaggle/working/output/plate_01667.json (stored 0%)\n",
      "  adding: kaggle/working/output/plate_01276.json (stored 0%)\n",
      "  adding: kaggle/working/output/plate_01547.json (stored 0%)\n",
      "  adding: kaggle/working/output/plate_01458.json (stored 0%)\n",
      "  adding: kaggle/working/output/plate_01792.json (stored 0%)\n",
      "  adding: kaggle/working/output/plate_01950.json (stored 0%)\n",
      "  adding: kaggle/working/output/plate_01582.json (stored 0%)\n",
      "  adding: kaggle/working/output/plate_01844.json (stored 0%)\n",
      "  adding: kaggle/working/output/plate_00420.json (stored 0%)\n",
      "  adding: kaggle/working/output/plate_00421.json (deflated 7%)\n",
      "  adding: kaggle/working/output/plate_00523.json (stored 0%)\n",
      "  adding: kaggle/working/output/plate_00293.json (stored 0%)\n",
      "  adding: kaggle/working/output/plate_00886.json (stored 0%)\n",
      "  adding: kaggle/working/output/plate_01461.json (stored 0%)\n",
      "  adding: kaggle/working/output/plate_01191.json (stored 0%)\n",
      "  adding: kaggle/working/output/plate_01379.json (stored 0%)\n",
      "  adding: kaggle/working/output/plate_00948.json (stored 0%)\n",
      "  adding: kaggle/working/output/plate_00698.json (stored 0%)\n",
      "  adding: kaggle/working/output/plate_00560.json (stored 0%)\n",
      "  adding: kaggle/working/output/plate_01865.json (stored 0%)\n",
      "  adding: kaggle/working/output/plate_00186.json (stored 0%)\n",
      "  adding: kaggle/working/output/plate_00716.json (stored 0%)\n",
      "  adding: kaggle/working/output/plate_00445.json (stored 0%)\n",
      "  adding: kaggle/working/output/plate_01576.json (stored 0%)\n",
      "  adding: kaggle/working/output/plate_01447.json (stored 0%)\n",
      "  adding: kaggle/working/output/plate_01832.json (stored 0%)\n",
      "  adding: kaggle/working/output/plate_01692.json (stored 0%)\n",
      "  adding: kaggle/working/output/plate_00256.json (stored 0%)\n",
      "  adding: kaggle/working/output/plate_01665.json (stored 0%)\n",
      "  adding: kaggle/working/output/plate_00123.json (stored 0%)\n",
      "  adding: kaggle/working/output/plate_01525.json (stored 0%)\n",
      "  adding: kaggle/working/output/plate_00842.json (stored 0%)\n",
      "  adding: kaggle/working/output/plate_01621.json (stored 0%)\n",
      "  adding: kaggle/working/output/plate_00270.json (stored 0%)\n",
      "  adding: kaggle/working/output/plate_01234.json (stored 0%)\n",
      "  adding: kaggle/working/output/plate_01345.json (stored 0%)\n",
      "  adding: kaggle/working/output/plate_01963.json (stored 0%)\n",
      "  adding: kaggle/working/output/plate_01513.json (stored 0%)\n",
      "  adding: kaggle/working/output/plate_00037.json (stored 0%)\n",
      "  adding: kaggle/working/output/plate_01598.json (stored 0%)\n",
      "  adding: kaggle/working/output/plate_00834.json (stored 0%)\n",
      "  adding: kaggle/working/output/plate_00159.json (stored 0%)\n",
      "  adding: kaggle/working/output/plate_00929.json (stored 0%)\n",
      "  adding: kaggle/working/output/plate_00808.json (stored 0%)\n",
      "  adding: kaggle/working/output/plate_00384.json (stored 0%)\n",
      "  adding: kaggle/working/output/plate_00091.json (stored 0%)\n"
     ]
    }
   ],
   "source": [
    "!zip -r k.zip /kaggle/working/output"
   ]
  },
  {
   "cell_type": "code",
   "execution_count": 37,
   "metadata": {
    "execution": {
     "iopub.execute_input": "2024-11-21T17:54:12.283241Z",
     "iopub.status.busy": "2024-11-21T17:54:12.282823Z",
     "iopub.status.idle": "2024-11-21T17:54:12.323049Z",
     "shell.execute_reply": "2024-11-21T17:54:12.322435Z",
     "shell.execute_reply.started": "2024-11-21T17:54:12.283203Z"
    },
    "trusted": true
   },
   "outputs": [],
   "source": [
    "import json\n",
    "\n",
    "results_dir = '/kaggle/working/output'\n",
    "os.makedirs(results_dir, exist_ok=True)\n",
    "\n",
    "for i in range(len(prediction_groups)):\n",
    "    txt = \"\"\n",
    "    for text, _ in prediction_groups[i]:\n",
    "        txt += text\n",
    "    output_txt_path = os.path.join(results_dir, img_paths[i].split('/')[-1][:-3]+'json')\n",
    "    # print(output_txt_path)\n",
    "    with open(output_txt_path, 'w') as f:\n",
    "            dict_lst = [{'Text' : txt, 'Probability' : 100}]\n",
    "            json.dump(dict_lst, f)\n",
    "    "
   ]
  },
  {
   "cell_type": "code",
   "execution_count": 25,
   "metadata": {
    "execution": {
     "iopub.execute_input": "2024-11-21T17:47:26.776829Z",
     "iopub.status.busy": "2024-11-21T17:47:26.776335Z",
     "iopub.status.idle": "2024-11-21T17:47:26.783903Z",
     "shell.execute_reply": "2024-11-21T17:47:26.782791Z",
     "shell.execute_reply.started": "2024-11-21T17:47:26.776784Z"
    },
    "trusted": true
   },
   "outputs": [
    {
     "data": {
      "text/plain": [
       "[('ce',\n",
       "  array([[351.90894  ,  56.677914 ],\n",
       "         [531.0573   ,   6.0490227],\n",
       "         [560.6188   , 110.651215 ],\n",
       "         [381.4704   , 161.2801   ]], dtype=float32)),\n",
       " ('sol',\n",
       "  array([[ 37.320717,  99.17377 ],\n",
       "         [307.77472 ,  60.051464],\n",
       "         [325.698   , 183.95566 ],\n",
       "         [ 55.243988, 223.07796 ]], dtype=float32))]"
      ]
     },
     "execution_count": 25,
     "metadata": {},
     "output_type": "execute_result"
    }
   ],
   "source": [
    "prediction_groups[0]"
   ]
  },
  {
   "cell_type": "markdown",
   "metadata": {},
   "source": [
    "#Plot the predictions from the model"
   ]
  },
  {
   "cell_type": "code",
   "execution_count": 23,
   "metadata": {
    "_kg_hide-input": true,
    "execution": {
     "iopub.execute_input": "2024-11-21T17:44:24.588239Z",
     "iopub.status.busy": "2024-11-21T17:44:24.587641Z",
     "iopub.status.idle": "2024-11-21T17:44:48.954233Z",
     "shell.execute_reply": "2024-11-21T17:44:48.953304Z",
     "shell.execute_reply.started": "2024-11-21T17:44:24.588203Z"
    },
    "trusted": true
   },
   "outputs": [
    {
     "data": {
      "image/png": "[encoded data removed]",
      "text/plain": [
       "<Figure size 720x1440 with 370 Axes>"
      ]
     },
     "metadata": {
      "needs_background": "light"
     },
     "output_type": "display_data"
    }
   ],
   "source": [
    "# plot the text predictions\n",
    "fig, axs = plt.subplots(nrows=len(images), figsize=(10, 20))\n",
    "for ax, image, predictions in zip(axs, images, prediction_groups):\n",
    "    keras_ocr.tools.drawAnnotations(image=image, \n",
    "                                    predictions=predictions, \n",
    "                                    ax=ax)\n",
    "    break"
   ]
  },
  {
   "cell_type": "markdown",
   "metadata": {},
   "source": [
    "#Print the identified text from the images"
   ]
  },
  {
   "cell_type": "code",
   "execution_count": 8,
   "metadata": {
    "execution": {
     "iopub.execute_input": "2024-11-21T14:37:45.541730Z",
     "iopub.status.busy": "2024-11-21T14:37:45.541411Z",
     "iopub.status.idle": "2024-11-21T14:37:45.547390Z",
     "shell.execute_reply": "2024-11-21T14:37:45.546404Z",
     "shell.execute_reply.started": "2024-11-21T14:37:45.541701Z"
    },
    "trusted": true
   },
   "outputs": [
    {
     "name": "stdout",
     "output_type": "stream",
     "text": [
      "highlevel\n",
      "training\n",
      "apls\n",
      "builtin\n",
      "trainingleval\n",
      "loops\n",
      "easy\n",
      "to\n",
      "use\n",
      "tensor\n",
      "flow\n",
      "customized\n",
      "stepbystep\n",
      "loops\n",
      "lowlevel\n",
      "highlevel\n",
      "architecture\n",
      "apls\n",
      "custom\n",
      "layers\n",
      "sequential\n",
      "architecture\n",
      "apis\n",
      "model\n",
      "subclassing\n",
      "full\n",
      "functional\n",
      "api\n",
      "fully\n",
      "flexible\n",
      "keras\n",
      "trainingleval\n",
      "k\n",
      "loops\n",
      "from\n",
      "scratch\n",
      "lowlevel\n",
      "training\n",
      "apis\n"
     ]
    }
   ],
   "source": [
    "predicted_image = prediction_groups[1]\n",
    "for text, box in predicted_image:\n",
    "    print(text)"
   ]
  },
  {
   "cell_type": "markdown",
   "metadata": {},
   "source": [
    "#Above the words Tensor Flow and Keras appeared, though where is Pytorch?"
   ]
  },
  {
   "cell_type": "code",
   "execution_count": 9,
   "metadata": {
    "execution": {
     "iopub.execute_input": "2024-11-21T14:37:45.549653Z",
     "iopub.status.busy": "2024-11-21T14:37:45.548741Z",
     "iopub.status.idle": "2024-11-21T14:37:45.572257Z",
     "shell.execute_reply": "2024-11-21T14:37:45.570800Z",
     "shell.execute_reply.started": "2024-11-21T14:37:45.549621Z"
    },
    "trusted": true
   },
   "outputs": [],
   "source": [
    "# Read images from folder path to image object\n",
    "images = [\n",
    "    keras_ocr.tools.read(img) for img in ['../input/cusersmarildownloadsransacjpg/cnn.jpg'\n",
    "                                          ]\n",
    "]"
   ]
  },
  {
   "cell_type": "code",
   "execution_count": 10,
   "metadata": {
    "execution": {
     "iopub.execute_input": "2024-11-21T14:37:45.576572Z",
     "iopub.status.busy": "2024-11-21T14:37:45.575822Z",
     "iopub.status.idle": "2024-11-21T14:38:01.629982Z",
     "shell.execute_reply": "2024-11-21T14:38:01.628949Z",
     "shell.execute_reply.started": "2024-11-21T14:37:45.576535Z"
    },
    "trusted": true
   },
   "outputs": [],
   "source": [
    "# generate text predictions from the images\n",
    "prediction_groups = pipeline.recognize(images)"
   ]
  },
  {
   "cell_type": "code",
   "execution_count": 11,
   "metadata": {
    "execution": {
     "iopub.execute_input": "2024-11-21T14:38:01.631682Z",
     "iopub.status.busy": "2024-11-21T14:38:01.631317Z",
     "iopub.status.idle": "2024-11-21T14:38:01.637667Z",
     "shell.execute_reply": "2024-11-21T14:38:01.636582Z",
     "shell.execute_reply.started": "2024-11-21T14:38:01.631648Z"
    },
    "trusted": true
   },
   "outputs": [
    {
     "name": "stdout",
     "output_type": "stream",
     "text": [
      "object\n",
      "detection\n",
      "using\n",
      "bird\n",
      "bird\n",
      "bird\n",
      "bird\n",
      "bird\n",
      "ird\n",
      "pytorch\n",
      "faster\n",
      "bird\n",
      "bird\n",
      "birdir\n",
      "brd\n",
      "rcnn\n",
      "pird\n",
      "bird\n",
      "mobilenetvs\n"
     ]
    }
   ],
   "source": [
    "predicted_image = prediction_groups[0]\n",
    "for text, box in predicted_image:\n",
    "    print(text)"
   ]
  },
  {
   "cell_type": "markdown",
   "metadata": {},
   "source": [
    "#Now we got Pytorch, MobileNetvs and birds (above)"
   ]
  },
  {
   "cell_type": "markdown",
   "metadata": {},
   "source": [
    "#Acknowledgements:\n",
    "\n",
    "Meet Nagadia  https://www.kaggle.com/code/meetnagadia/extract-text-from-images/notebook"
   ]
  }
 ],
 "metadata": {
  "kaggle": {
   "accelerator": "gpu",
   "dataSources": [
    {
     "datasetId": 2369816,
     "sourceId": 4229939,
     "sourceType": "datasetVersion"
    },
    {
     "datasetId": 6136679,
     "sourceId": 9974111,
     "sourceType": "datasetVersion"
    }
   ],
   "dockerImageVersionId": 30260,
   "isGpuEnabled": true,
   "isInternetEnabled": true,
   "language": "python",
   "sourceType": "notebook"
  },
  "kernelspec": {
   "display_name": "bot_env",
   "language": "python",
   "name": "python3"
  },
  "language_info": {
   "codemirror_mode": {
    "name": "ipython",
    "version": 3
   },
   "file_extension": ".py",
   "mimetype": "text/x-python",
   "name": "python",
   "nbconvert_exporter": "python",
   "pygments_lexer": "ipython3",
   "version": "3.10.12"
  }
 },
 "nbformat": 4,
 "nbformat_minor": 4
}
